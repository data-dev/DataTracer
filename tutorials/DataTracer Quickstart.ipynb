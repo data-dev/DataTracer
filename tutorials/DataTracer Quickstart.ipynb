{
 "cells": [
  {
   "cell_type": "markdown",
   "metadata": {},
   "source": [
    "# DataTracer Quickstart\n",
    "\n",
    "In this short tutorial we will guide you through the necessary steps\n",
    "to get started using **DataTracer**.\n",
    "\n",
    "In the following sections we will:\n",
    "\n",
    "* Generate and load some demo data\n",
    "* Get the list of available pipelines\n",
    "* Detect the primary keys of a dataset\n",
    "* Detect the foreign keys of a dataset"
   ]
  },
  {
   "cell_type": "markdown",
   "metadata": {},
   "source": [
    "## Load some data\n",
    "\n",
    "The first step will be to get and load some data to work with.\n",
    "\n",
    "For this, we will use the function `get_demo_data`, which will\n",
    "generate a folder in our current working directory with some\n",
    "datasets inside it."
   ]
  },
  {
   "cell_type": "code",
   "execution_count": 1,
   "metadata": {
    "tags": []
   },
   "outputs": [
    {
     "name": "stdout",
     "output_type": "stream",
     "text": [
      "Generating a demo folder at `./datatracer_demo`\n"
     ]
    }
   ],
   "source": [
    "from datatracer import get_demo_data\n",
    "\n",
    "get_demo_data(force=True)"
   ]
  },
  {
   "cell_type": "markdown",
   "metadata": {},
   "source": [
    "Afterwards, we can load all the generated datasets using the `load_datasets` function."
   ]
  },
  {
   "cell_type": "code",
   "execution_count": 2,
   "metadata": {},
   "outputs": [],
   "source": [
    "from datatracer import load_datasets\n",
    "\n",
    "datasets = load_datasets('datatracer_demo')"
   ]
  },
  {
   "cell_type": "markdown",
   "metadata": {},
   "source": [
    "This will return us a dict with tuples containing a MetaData instance with information\n",
    "about the dataset and a dictionary with the tables loaded as `pandas.DataFrame` instances."
   ]
  },
  {
   "cell_type": "code",
   "execution_count": 3,
   "metadata": {},
   "outputs": [
    {
     "data": {
      "text/plain": [
       "dict_keys(['posts', 'NBA', 'university', 'pubs', 'Chess', 'classicmodels', 'mutagenesis', 'Bupa', 'trains', 'SameGen'])"
      ]
     },
     "execution_count": 3,
     "metadata": {},
     "output_type": "execute_result"
    }
   ],
   "source": [
    "datasets.keys()"
   ]
  },
  {
   "cell_type": "code",
   "execution_count": 4,
   "metadata": {},
   "outputs": [],
   "source": [
    "metadata, tables = datasets.pop('classicmodels')"
   ]
  },
  {
   "cell_type": "code",
   "execution_count": 5,
   "metadata": {},
   "outputs": [
    {
     "data": {
      "text/plain": [
       "{'customers': 'customerNumber',\n",
       " 'employees': 'employeeNumber',\n",
       " 'offices': 'officeCode',\n",
       " 'orderdetails': ['orderNumber', 'productCode'],\n",
       " 'orders': 'orderNumber',\n",
       " 'payments': ['customerNumber', 'checkNumber'],\n",
       " 'productlines': 'productLine',\n",
       " 'products': 'productCode'}"
      ]
     },
     "execution_count": 5,
     "metadata": {},
     "output_type": "execute_result"
    }
   ],
   "source": [
    "{\n",
    "    table['name']: table['primary_key']\n",
    "    for table in metadata.get_tables()\n",
    "}"
   ]
  },
  {
   "cell_type": "code",
   "execution_count": 6,
   "metadata": {},
   "outputs": [
    {
     "data": {
      "text/plain": [
       "['customers',\n",
       " 'employees',\n",
       " 'offices',\n",
       " 'orderdetails',\n",
       " 'orders',\n",
       " 'payments',\n",
       " 'productlines',\n",
       " 'products']"
      ]
     },
     "execution_count": 6,
     "metadata": {},
     "output_type": "execute_result"
    }
   ],
   "source": [
    "metadata.get_table_names()"
   ]
  },
  {
   "cell_type": "code",
   "execution_count": 7,
   "metadata": {},
   "outputs": [
    {
     "data": {
      "text/plain": [
       "['customers',\n",
       " 'employees',\n",
       " 'offices',\n",
       " 'orderdetails',\n",
       " 'orders',\n",
       " 'payments',\n",
       " 'productlines',\n",
       " 'products']"
      ]
     },
     "execution_count": 7,
     "metadata": {},
     "output_type": "execute_result"
    }
   ],
   "source": [
    "list(tables.keys())"
   ]
  },
  {
   "cell_type": "code",
   "execution_count": 8,
   "metadata": {},
   "outputs": [
    {
     "data": {
      "text/plain": [
       "{'name': 'customers',\n",
       " 'primary_key': 'customerNumber',\n",
       " 'fields': [{'name': 'customerNumber', 'data_type': 'numerical'},\n",
       "  {'name': 'customerName', 'data_type': 'text'},\n",
       "  {'name': 'contactLastName', 'data_type': 'text'},\n",
       "  {'name': 'contactFirstName', 'data_type': 'text'},\n",
       "  {'name': 'phone', 'data_type': 'text'},\n",
       "  {'name': 'addressLine1', 'data_type': 'text'},\n",
       "  {'name': 'addressLine2', 'data_type': 'text'},\n",
       "  {'name': 'city', 'data_type': 'text'},\n",
       "  {'name': 'state', 'data_type': 'text'},\n",
       "  {'name': 'postalCode', 'data_type': 'text'},\n",
       "  {'name': 'country', 'data_type': 'text'},\n",
       "  {'name': 'salesRepEmployeeNumber', 'data_type': 'numerical'},\n",
       "  {'name': 'creditLimit', 'data_type': 'numerical'}],\n",
       " 'id': 'customers'}"
      ]
     },
     "execution_count": 8,
     "metadata": {},
     "output_type": "execute_result"
    }
   ],
   "source": [
    "metadata.get_table('customers')"
   ]
  },
  {
   "cell_type": "code",
   "execution_count": 9,
   "metadata": {},
   "outputs": [
    {
     "data": {
      "text/html": [
       "<div>\n",
       "<style scoped>\n",
       "    .dataframe tbody tr th:only-of-type {\n",
       "        vertical-align: middle;\n",
       "    }\n",
       "\n",
       "    .dataframe tbody tr th {\n",
       "        vertical-align: top;\n",
       "    }\n",
       "\n",
       "    .dataframe thead th {\n",
       "        text-align: right;\n",
       "    }\n",
       "</style>\n",
       "<table border=\"1\" class=\"dataframe\">\n",
       "  <thead>\n",
       "    <tr style=\"text-align: right;\">\n",
       "      <th></th>\n",
       "      <th>customerNumber</th>\n",
       "      <th>customerName</th>\n",
       "      <th>contactLastName</th>\n",
       "      <th>contactFirstName</th>\n",
       "      <th>phone</th>\n",
       "      <th>addressLine1</th>\n",
       "      <th>addressLine2</th>\n",
       "      <th>city</th>\n",
       "      <th>state</th>\n",
       "      <th>postalCode</th>\n",
       "      <th>country</th>\n",
       "      <th>salesRepEmployeeNumber</th>\n",
       "      <th>creditLimit</th>\n",
       "    </tr>\n",
       "  </thead>\n",
       "  <tbody>\n",
       "    <tr>\n",
       "      <th>0</th>\n",
       "      <td>103</td>\n",
       "      <td>Atelier graphique</td>\n",
       "      <td>Schmitt</td>\n",
       "      <td>Carine</td>\n",
       "      <td>40.32.2555</td>\n",
       "      <td>54, rue Royale</td>\n",
       "      <td>NaN</td>\n",
       "      <td>Nantes</td>\n",
       "      <td>NaN</td>\n",
       "      <td>44000</td>\n",
       "      <td>France</td>\n",
       "      <td>1370.0</td>\n",
       "      <td>21000.0</td>\n",
       "    </tr>\n",
       "    <tr>\n",
       "      <th>1</th>\n",
       "      <td>112</td>\n",
       "      <td>Signal Gift Stores</td>\n",
       "      <td>King</td>\n",
       "      <td>Jean</td>\n",
       "      <td>7025551838</td>\n",
       "      <td>8489 Strong St.</td>\n",
       "      <td>NaN</td>\n",
       "      <td>Las Vegas</td>\n",
       "      <td>NV</td>\n",
       "      <td>83030</td>\n",
       "      <td>USA</td>\n",
       "      <td>1166.0</td>\n",
       "      <td>71800.0</td>\n",
       "    </tr>\n",
       "    <tr>\n",
       "      <th>2</th>\n",
       "      <td>114</td>\n",
       "      <td>Australian Collectors, Co.</td>\n",
       "      <td>Ferguson</td>\n",
       "      <td>Peter</td>\n",
       "      <td>03 9520 4555</td>\n",
       "      <td>636 St Kilda Road</td>\n",
       "      <td>Level 3</td>\n",
       "      <td>Melbourne</td>\n",
       "      <td>Victoria</td>\n",
       "      <td>3004</td>\n",
       "      <td>Australia</td>\n",
       "      <td>1611.0</td>\n",
       "      <td>117300.0</td>\n",
       "    </tr>\n",
       "    <tr>\n",
       "      <th>3</th>\n",
       "      <td>119</td>\n",
       "      <td>La Rochelle Gifts</td>\n",
       "      <td>Labrune</td>\n",
       "      <td>Janine</td>\n",
       "      <td>40.67.8555</td>\n",
       "      <td>67, rue des Cinquante Otages</td>\n",
       "      <td>NaN</td>\n",
       "      <td>Nantes</td>\n",
       "      <td>NaN</td>\n",
       "      <td>44000</td>\n",
       "      <td>France</td>\n",
       "      <td>1370.0</td>\n",
       "      <td>118200.0</td>\n",
       "    </tr>\n",
       "    <tr>\n",
       "      <th>4</th>\n",
       "      <td>121</td>\n",
       "      <td>Baane Mini Imports</td>\n",
       "      <td>Bergulfsen</td>\n",
       "      <td>Jonas</td>\n",
       "      <td>07-98 9555</td>\n",
       "      <td>Erling Skakkes gate 78</td>\n",
       "      <td>NaN</td>\n",
       "      <td>Stavern</td>\n",
       "      <td>NaN</td>\n",
       "      <td>4110</td>\n",
       "      <td>Norway</td>\n",
       "      <td>1504.0</td>\n",
       "      <td>81700.0</td>\n",
       "    </tr>\n",
       "  </tbody>\n",
       "</table>\n",
       "</div>"
      ],
      "text/plain": [
       "   customerNumber                customerName contactLastName  \\\n",
       "0             103           Atelier graphique         Schmitt   \n",
       "1             112          Signal Gift Stores            King   \n",
       "2             114  Australian Collectors, Co.        Ferguson   \n",
       "3             119           La Rochelle Gifts         Labrune   \n",
       "4             121          Baane Mini Imports      Bergulfsen   \n",
       "\n",
       "  contactFirstName         phone                  addressLine1 addressLine2  \\\n",
       "0          Carine     40.32.2555                54, rue Royale          NaN   \n",
       "1             Jean    7025551838               8489 Strong St.          NaN   \n",
       "2            Peter  03 9520 4555             636 St Kilda Road      Level 3   \n",
       "3          Janine     40.67.8555  67, rue des Cinquante Otages          NaN   \n",
       "4           Jonas     07-98 9555        Erling Skakkes gate 78          NaN   \n",
       "\n",
       "        city     state postalCode    country  salesRepEmployeeNumber  \\\n",
       "0     Nantes       NaN      44000     France                  1370.0   \n",
       "1  Las Vegas        NV      83030        USA                  1166.0   \n",
       "2  Melbourne  Victoria       3004  Australia                  1611.0   \n",
       "3     Nantes       NaN      44000     France                  1370.0   \n",
       "4    Stavern       NaN       4110     Norway                  1504.0   \n",
       "\n",
       "   creditLimit  \n",
       "0      21000.0  \n",
       "1      71800.0  \n",
       "2     117300.0  \n",
       "3     118200.0  \n",
       "4      81700.0  "
      ]
     },
     "execution_count": 9,
     "metadata": {},
     "output_type": "execute_result"
    }
   ],
   "source": [
    "tables['customers'].head()"
   ]
  },
  {
   "cell_type": "markdown",
   "metadata": {},
   "source": [
    "For the rest of this tutorial, we will try to solve a data lineage problem using\n",
    "the dataset that we just explored, using the rest of the datasets as our training data."
   ]
  },
  {
   "cell_type": "markdown",
   "metadata": {},
   "source": [
    "## Select a Pipeline\n",
    "\n",
    "In the DataTracer project, the Data Lineage problems are solved using what we call _pipelines_.\n",
    "\n",
    "Each _pipeline_ solves a different type of Data Lineage problem:\n",
    "\n",
    "* **Primary Key detection**: Identify which column is the primary key in each table.\n",
    "* **Foreign Key detection**: Find which relationships exist between the tables.\n",
    "* **Column Mapping**: Given a field in a table, deduce which other fields, from the same table or other tables, are more related to or contributed the most in generating the given field.\n",
    "\n",
    "We can see the list of available pipelines using the `get_pipelines` function:"
   ]
  },
  {
   "cell_type": "code",
   "execution_count": 10,
   "metadata": {},
   "outputs": [
    {
     "data": {
      "text/plain": [
       "['datatracer.column_map.basic',\n",
       " 'datatracer.foreign_key.basic',\n",
       " 'datatracer.foreign_key.standard',\n",
       " 'datatracer.how_lineage.basic',\n",
       " 'datatracer.metadata.update_metadata_column_map',\n",
       " 'datatracer.metadata.update_metadata_foreign_keys',\n",
       " 'datatracer.metadata.update_metadata_primary_keys',\n",
       " 'datatracer.primary_key.basic']"
      ]
     },
     "execution_count": 10,
     "metadata": {},
     "output_type": "execute_result"
    }
   ],
   "source": [
    "from datatracer import get_pipelines\n",
    "\n",
    "get_pipelines()"
   ]
  },
  {
   "cell_type": "markdown",
   "metadata": {},
   "source": [
    "In the next steps we will use the `datatracer.primary_key.basic` pipeline to detect the\n",
    "primary keys of our dataset, and later on use the `datatracer.foreign_key.standard` to\n",
    "obtain a list of foreing key candidates."
   ]
  },
  {
   "cell_type": "markdown",
   "metadata": {},
   "source": [
    "## Use a DataTracer instance to find primary keys\n",
    "\n",
    "In order to use a pipeline you will need to create a `DataTracer` instance passing the name of\n",
    "the pipeline that we want to use."
   ]
  },
  {
   "cell_type": "code",
   "execution_count": 11,
   "metadata": {},
   "outputs": [],
   "source": [
    "from datatracer import DataTracer\n",
    "\n",
    "dtr = DataTracer('datatracer.primary_key.basic')"
   ]
  },
  {
   "cell_type": "markdown",
   "metadata": {},
   "source": [
    "Once we have our instance we will need to fit it to our training data to make it learn\n",
    "from other datasets."
   ]
  },
  {
   "cell_type": "code",
   "execution_count": 12,
   "metadata": {},
   "outputs": [
    {
     "name": "stderr",
     "output_type": "stream",
     "text": [
      "Extracting features from SameGen: 100%|██████████| 9/9 [00:00<00:00, 43.14it/s]    \n"
     ]
    }
   ],
   "source": [
    "dtr.fit(datasets)"
   ]
  },
  {
   "cell_type": "markdown",
   "metadata": {},
   "source": [
    "And once it has been fitted we are ready to solve our Data Lineage problem by calling\n",
    "the `solve` method passing the tables that we want to analyze."
   ]
  },
  {
   "cell_type": "code",
   "execution_count": 13,
   "metadata": {},
   "outputs": [],
   "source": [
    "primary_keys = dtr.solve(tables)"
   ]
  },
  {
   "cell_type": "markdown",
   "metadata": {},
   "source": [
    "This will return us a dictionary containing the name of the primary key of each table."
   ]
  },
  {
   "cell_type": "code",
   "execution_count": 14,
   "metadata": {},
   "outputs": [
    {
     "data": {
      "text/plain": [
       "{'customers': ['customerNumber'],\n",
       " 'employees': ['employeeNumber'],\n",
       " 'offices': ['officeCode'],\n",
       " 'orderdetails': ['orderNumber'],\n",
       " 'orders': ['orderNumber'],\n",
       " 'payments': ['customerNumber'],\n",
       " 'productlines': ['productLine'],\n",
       " 'products': ['productCode']}"
      ]
     },
     "execution_count": 14,
     "metadata": {},
     "output_type": "execute_result"
    }
   ],
   "source": [
    "primary_keys"
   ]
  },
  {
   "cell_type": "markdown",
   "metadata": {},
   "source": [
    "## Use the DataTracer to find foreign keys\n",
    "\n",
    "Now let's try to solve a more complex problem, such as as figuring out the relationships between our tables.\n",
    "\n",
    "For this, we will use the `datatracer.foreign_key.standard` pipeline."
   ]
  },
  {
   "cell_type": "code",
   "execution_count": 15,
   "metadata": {},
   "outputs": [
    {
     "name": "stderr",
     "output_type": "stream",
     "text": [
      "Extracting features from SameGen: 100%|██████████| 9/9 [00:00<00:00, 46.95it/s]    \n",
      "Extracting features from SameGen: 100%|██████████| 9/9 [00:00<00:00, 20.83it/s]    \n"
     ]
    }
   ],
   "source": [
    "dtr = DataTracer('datatracer.foreign_key.standard')\n",
    "dtr.fit(datasets)\n",
    "foreign_keys = dtr.solve(tables)"
   ]
  },
  {
   "cell_type": "markdown",
   "metadata": {},
   "source": [
    "The output will be a list containing all the foreign candidates that the DataTracer considered\n",
    "valid."
   ]
  },
  {
   "cell_type": "code",
   "execution_count": 16,
   "metadata": {},
   "outputs": [
    {
     "data": {
      "text/plain": [
       "[{'table': 'products',\n",
       "  'field': 'productLine',\n",
       "  'ref_table': 'productlines',\n",
       "  'ref_field': 'productLine'},\n",
       " {'table': 'payments',\n",
       "  'field': 'customerNumber',\n",
       "  'ref_table': 'customers',\n",
       "  'ref_field': 'customerNumber'},\n",
       " {'table': 'orders',\n",
       "  'field': 'customerNumber',\n",
       "  'ref_table': 'customers',\n",
       "  'ref_field': 'customerNumber'},\n",
       " {'table': 'orderdetails',\n",
       "  'field': 'productCode',\n",
       "  'ref_table': 'products',\n",
       "  'ref_field': 'productCode'},\n",
       " {'table': 'orderdetails',\n",
       "  'field': 'orderNumber',\n",
       "  'ref_table': 'orders',\n",
       "  'ref_field': 'orderNumber'},\n",
       " {'table': 'employees',\n",
       "  'field': 'officeCode',\n",
       "  'ref_table': 'offices',\n",
       "  'ref_field': 'officeCode'}]"
      ]
     },
     "execution_count": 16,
     "metadata": {},
     "output_type": "execute_result"
    }
   ],
   "source": [
    "foreign_keys"
   ]
  },
  {
   "cell_type": "markdown",
   "metadata": {},
   "source": [
    "## Solve a Column Mapping problem\n",
    "\n",
    "Now that we are able to figure out the relationships between our tables, we will try to go one\n",
    "step further and try to solve the Data Lineage problem of knowing, for a given column of our\n",
    "tables, which other columns were most likely involved in the computation of its values.\n",
    "\n",
    "For this, we will use the `datatracer.column_map` pipeline passing two additional arguments to\n",
    "the `solve` method:\n",
    "\n",
    "* `target_table`: The name of the table which contains the column that we want to analyze.\n",
    "* `target_field`: The name fo the column that we want to analyze.\n",
    "\n",
    "For example, in this case we will try to see which fields are more closely related with\n",
    "the field `quantityOrdered` from the table `orderdetails`."
   ]
  },
  {
   "cell_type": "code",
   "execution_count": 17,
   "metadata": {},
   "outputs": [
    {
     "name": "stderr",
     "output_type": "stream",
     "text": [
      "Extracting features from SameGen: 100%|██████████| 9/9 [00:00<00:00, 43.29it/s]    \n",
      "Extracting features from SameGen: 100%|██████████| 9/9 [00:00<00:00, 21.37it/s]    \n"
     ]
    }
   ],
   "source": [
    "dtr = DataTracer('datatracer.column_map.basic')\n",
    "dtr.fit(datasets)\n",
    "column_map = dtr.solve(\n",
    "    tables,\n",
    "    target_table='orderdetails',\n",
    "    target_field='quantityOrdered'\n",
    ")"
   ]
  },
  {
   "cell_type": "markdown",
   "metadata": {},
   "source": [
    "The output will be a dict containing the fields that DataTracer consider that are more closely\n",
    "related to the value of the given field, with a score indicating how strong the relationship is."
   ]
  },
  {
   "cell_type": "code",
   "execution_count": 18,
   "metadata": {},
   "outputs": [
    {
     "data": {
      "text/plain": [
       "{('orderdetails', 'orderNumber'): 0.3867085505946312,\n",
       " ('orderdetails', 'priceEach'): 0.4226638356684435,\n",
       " ('orderdetails', 'orderLineNumber'): 0.19062761373692533}"
      ]
     },
     "execution_count": 18,
     "metadata": {},
     "output_type": "execute_result"
    }
   ],
   "source": [
    "column_map"
   ]
  },
  {
   "cell_type": "markdown",
   "metadata": {},
   "source": [
    "For example, in this case we can see that the field that has the strongest relationship with the\n",
    "`quantityOrdered` field is the `priceEach` of the same table."
   ]
  },
  {
   "cell_type": "markdown",
   "metadata": {},
   "source": [
    "Now, just for demonstration purposes, let's make an experiment and create a new field in the same table which is directly derived from the `quantityOrdered` field. For example, let's multiply it by 2:"
   ]
  },
  {
   "cell_type": "code",
   "execution_count": 19,
   "metadata": {},
   "outputs": [],
   "source": [
    "tables['orderdetails']['quantityOrdered_x2'] = tables['orderdetails']['quantityOrdered'] * 2"
   ]
  },
  {
   "cell_type": "markdown",
   "metadata": {},
   "source": [
    "Now we can use DataTracer again to see if it is able to detect this new field as a candidate:"
   ]
  },
  {
   "cell_type": "code",
   "execution_count": 20,
   "metadata": {},
   "outputs": [],
   "source": [
    "column_map_2 = dtr.solve(\n",
    "    tables,\n",
    "    target_table='orderdetails',\n",
    "    target_field='quantityOrdered'\n",
    ")"
   ]
  },
  {
   "cell_type": "code",
   "execution_count": 21,
   "metadata": {},
   "outputs": [
    {
     "data": {
      "text/plain": [
       "{('orderdetails', 'quantityOrdered_x2'): 0.9996667966308828}"
      ]
     },
     "execution_count": 21,
     "metadata": {},
     "output_type": "execute_result"
    }
   ],
   "source": [
    "column_map_2"
   ]
  },
  {
   "cell_type": "markdown",
   "metadata": {},
   "source": [
    "As we can see, DataTracer has successfully detected the new field and selected it as\n",
    "the one with the strongest relationship with our target field."
   ]
  },
  {
   "cell_type": "markdown",
   "metadata": {},
   "source": [
    "## Update a MetaData JSON\n",
    "\n",
    "After solving a Data Lineage problem using DataTracer, we might want to update the\n",
    "Metadata JSON of our dataset with the findings from DataTracer.\n",
    "\n",
    "This can be done using the `datatracer.metadata` family of pipelines:\n",
    "\n",
    "* `datatracer.metadata.update_metadata_primary_key`\n",
    "* `datatracer.metadata.update_metadata_foreign_key`\n",
    "* `datatracer.metadata.update_metadata_column_map`\n",
    "\n",
    "These pipelines expect as input and argument called `metadata`, which can be a MetaData\n",
    "instance or a MetaData dict or a path to a MetaData JSON file, and the output from any of\n",
    "the pipeline shown above.\n",
    "\n",
    "In some cases, like the column map one, we will also need to pass any additional argument\n",
    "that was given to the corresponding solver, such as the `target_table` or `target_field`.\n",
    "\n",
    "Additionally, an parameter called `output_path` can also be passed to have DataTracer save\n",
    "the updated MetaData as a JSON file in the indicated path.\n",
    "\n",
    "As an example, let's use the `update_metadata_column_map` pipeline to add the found\n",
    "fields to as lineage constraints into our metadata."
   ]
  },
  {
   "cell_type": "code",
   "execution_count": 22,
   "metadata": {},
   "outputs": [],
   "source": [
    "dtr = DataTracer('datatracer.metadata.update_metadata_column_map')\n",
    "\n",
    "updated_metadata = dtr.solve(\n",
    "    metadata=metadata,\n",
    "    column_map=column_map,\n",
    "    target_table='orderdetails',\n",
    "    target_field='quantityOrdered'\n",
    ")"
   ]
  },
  {
   "cell_type": "markdown",
   "metadata": {},
   "source": [
    "After the execution, we can see how the returned metadata contains the\n",
    "corresponding column map fields added as a `lineage` constraint."
   ]
  },
  {
   "cell_type": "code",
   "execution_count": 23,
   "metadata": {},
   "outputs": [
    {
     "data": {
      "text/plain": [
       "[{'constraint_type': 'lineage',\n",
       "  'fields_under_consideration': [{'table': 'orderdetails',\n",
       "    'field': 'quantityOrdered'}],\n",
       "  'related_fields': [{'table': 'orderdetails', 'field': 'priceEach'},\n",
       "   {'table': 'orderdetails', 'field': 'orderNumber'},\n",
       "   {'table': 'orderdetails', 'field': 'orderLineNumber'}]}]"
      ]
     },
     "execution_count": 23,
     "metadata": {},
     "output_type": "execute_result"
    }
   ],
   "source": [
    "updated_metadata.data['constraints']"
   ]
  }
 ],
 "metadata": {
  "kernelspec": {
   "display_name": "Python 3",
   "language": "python",
   "name": "python3"
  },
  "language_info": {
   "codemirror_mode": {
    "name": "ipython",
    "version": 3
   },
   "file_extension": ".py",
   "mimetype": "text/x-python",
   "name": "python",
   "nbconvert_exporter": "python",
   "pygments_lexer": "ipython3",
   "version": "3.7.4"
  }
 },
 "nbformat": 4,
 "nbformat_minor": 4
}
