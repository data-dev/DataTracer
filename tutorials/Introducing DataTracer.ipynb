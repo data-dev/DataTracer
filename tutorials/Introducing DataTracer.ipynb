{
 "cells": [
  {
   "cell_type": "markdown",
   "metadata": {},
   "source": [
    "# Introducing DataTracer\n",
    "In this short tutorial, we will demonstrate some of the core functionality of the **DataTracer** library."
   ]
  },
  {
   "cell_type": "code",
   "execution_count": 1,
   "metadata": {},
   "outputs": [],
   "source": [
    "import pandas as pd\n",
    "from datatracer import DataTracer\n",
    "from datatracer import get_demo_data, load_dataset"
   ]
  },
  {
   "cell_type": "markdown",
   "metadata": {},
   "source": [
    "### Dataset\n",
    "Suppose you have a dataset that you want to understand. For this tutorial, we'll download and load the `posts` dataset."
   ]
  },
  {
   "cell_type": "code",
   "execution_count": 2,
   "metadata": {},
   "outputs": [
    {
     "name": "stdout",
     "output_type": "stream",
     "text": [
      "Generating a demo folder at `./datatracer_demo`\n"
     ]
    }
   ],
   "source": [
    "get_demo_data(force=True)\n",
    "metadata, tables = load_dataset('datatracer_demo/posts')"
   ]
  },
  {
   "cell_type": "markdown",
   "metadata": {},
   "source": [
    "This dataset consists of two tables, `users` and `posts`, which look something like this:"
   ]
  },
  {
   "cell_type": "code",
   "execution_count": 3,
   "metadata": {},
   "outputs": [
    {
     "data": {
      "text/html": [
       "<div>\n",
       "<style scoped>\n",
       "    .dataframe tbody tr th:only-of-type {\n",
       "        vertical-align: middle;\n",
       "    }\n",
       "\n",
       "    .dataframe tbody tr th {\n",
       "        vertical-align: top;\n",
       "    }\n",
       "\n",
       "    .dataframe thead th {\n",
       "        text-align: right;\n",
       "    }\n",
       "</style>\n",
       "<table border=\"1\" class=\"dataframe\">\n",
       "  <thead>\n",
       "    <tr style=\"text-align: right;\">\n",
       "      <th></th>\n",
       "      <th>id</th>\n",
       "      <th>age</th>\n",
       "      <th>birthyear</th>\n",
       "      <th>height</th>\n",
       "      <th>nb_posts</th>\n",
       "    </tr>\n",
       "  </thead>\n",
       "  <tbody>\n",
       "    <tr>\n",
       "      <th>0</th>\n",
       "      <td>0</td>\n",
       "      <td>42</td>\n",
       "      <td>1978</td>\n",
       "      <td>154</td>\n",
       "      <td>8</td>\n",
       "    </tr>\n",
       "    <tr>\n",
       "      <th>1</th>\n",
       "      <td>1</td>\n",
       "      <td>90</td>\n",
       "      <td>1930</td>\n",
       "      <td>188</td>\n",
       "      <td>6</td>\n",
       "    </tr>\n",
       "    <tr>\n",
       "      <th>2</th>\n",
       "      <td>2</td>\n",
       "      <td>47</td>\n",
       "      <td>1973</td>\n",
       "      <td>190</td>\n",
       "      <td>1</td>\n",
       "    </tr>\n",
       "    <tr>\n",
       "      <th>3</th>\n",
       "      <td>3</td>\n",
       "      <td>83</td>\n",
       "      <td>1937</td>\n",
       "      <td>161</td>\n",
       "      <td>3</td>\n",
       "    </tr>\n",
       "    <tr>\n",
       "      <th>4</th>\n",
       "      <td>4</td>\n",
       "      <td>88</td>\n",
       "      <td>1932</td>\n",
       "      <td>164</td>\n",
       "      <td>5</td>\n",
       "    </tr>\n",
       "  </tbody>\n",
       "</table>\n",
       "</div>"
      ],
      "text/plain": [
       "   id  age  birthyear  height  nb_posts\n",
       "0   0   42       1978     154         8\n",
       "1   1   90       1930     188         6\n",
       "2   2   47       1973     190         1\n",
       "3   3   83       1937     161         3\n",
       "4   4   88       1932     164         5"
      ]
     },
     "execution_count": 3,
     "metadata": {},
     "output_type": "execute_result"
    }
   ],
   "source": [
    "tables[\"users\"].head()"
   ]
  },
  {
   "cell_type": "code",
   "execution_count": 4,
   "metadata": {},
   "outputs": [
    {
     "data": {
      "text/html": [
       "<div>\n",
       "<style scoped>\n",
       "    .dataframe tbody tr th:only-of-type {\n",
       "        vertical-align: middle;\n",
       "    }\n",
       "\n",
       "    .dataframe tbody tr th {\n",
       "        vertical-align: top;\n",
       "    }\n",
       "\n",
       "    .dataframe thead th {\n",
       "        text-align: right;\n",
       "    }\n",
       "</style>\n",
       "<table border=\"1\" class=\"dataframe\">\n",
       "  <thead>\n",
       "    <tr style=\"text-align: right;\">\n",
       "      <th></th>\n",
       "      <th>id</th>\n",
       "      <th>uid</th>\n",
       "      <th>text</th>\n",
       "    </tr>\n",
       "  </thead>\n",
       "  <tbody>\n",
       "    <tr>\n",
       "      <th>0</th>\n",
       "      <td>0</td>\n",
       "      <td>0</td>\n",
       "      <td>ca057d76-a744-11ea-a275-149d997bb0cb</td>\n",
       "    </tr>\n",
       "    <tr>\n",
       "      <th>1</th>\n",
       "      <td>1</td>\n",
       "      <td>0</td>\n",
       "      <td>ca057f7e-a744-11ea-a275-149d997bb0cb</td>\n",
       "    </tr>\n",
       "    <tr>\n",
       "      <th>2</th>\n",
       "      <td>2</td>\n",
       "      <td>0</td>\n",
       "      <td>ca057fba-a744-11ea-a275-149d997bb0cb</td>\n",
       "    </tr>\n",
       "    <tr>\n",
       "      <th>3</th>\n",
       "      <td>3</td>\n",
       "      <td>0</td>\n",
       "      <td>ca057fe2-a744-11ea-a275-149d997bb0cb</td>\n",
       "    </tr>\n",
       "    <tr>\n",
       "      <th>4</th>\n",
       "      <td>4</td>\n",
       "      <td>0</td>\n",
       "      <td>ca05800a-a744-11ea-a275-149d997bb0cb</td>\n",
       "    </tr>\n",
       "  </tbody>\n",
       "</table>\n",
       "</div>"
      ],
      "text/plain": [
       "   id  uid                                  text\n",
       "0   0    0  ca057d76-a744-11ea-a275-149d997bb0cb\n",
       "1   1    0  ca057f7e-a744-11ea-a275-149d997bb0cb\n",
       "2   2    0  ca057fba-a744-11ea-a275-149d997bb0cb\n",
       "3   3    0  ca057fe2-a744-11ea-a275-149d997bb0cb\n",
       "4   4    0  ca05800a-a744-11ea-a275-149d997bb0cb"
      ]
     },
     "execution_count": 4,
     "metadata": {},
     "output_type": "execute_result"
    }
   ],
   "source": [
    "tables[\"posts\"].head()"
   ]
  },
  {
   "cell_type": "markdown",
   "metadata": {},
   "source": [
    "Just by looking at the first few rows of these two tables, we can guess at some of the relationships that may be present in the data. For example, one could imagine that there should be a strong relationship between age and birthyear. Furthermore, the posts table is likely related to the users table through a foreign key relationship, likely through the `uid` (i.e. user id) column.\n",
    "\n",
    "All of these relationships are pure supposition based on our own intuition at this point; however, we can discover and verify them using the tools provided by the **DataTracer** library."
   ]
  },
  {
   "cell_type": "markdown",
   "metadata": {},
   "source": [
    "## DataTracer\n",
    "The **DataTracer** library is powered by the [MLBlocks](https://hdi-project.github.io/MLBlocks/index.html) framework. Various data lineage tracing tools - from primary key discovery to column mapping discovery - are implemented as primitives which can be chained together to form pipelines. In this section, we apply a few of these pre-defined pipelines to the above dataset."
   ]
  },
  {
   "cell_type": "markdown",
   "metadata": {},
   "source": [
    "### Primary Key Tracer\n",
    "Suppose you want to identify the primary key. This can be accomplished using the primary key discovery pipeline."
   ]
  },
  {
   "cell_type": "code",
   "execution_count": 5,
   "metadata": {},
   "outputs": [
    {
     "data": {
      "text/plain": [
       "{'users': ['id'], 'posts': ['id', 'uid']}"
      ]
     },
     "execution_count": 5,
     "metadata": {},
     "output_type": "execute_result"
    }
   ],
   "source": [
    "solver = DataTracer.load('datatracer.primary_key.basic')\n",
    "solver.solve(tables)"
   ]
  },
  {
   "cell_type": "markdown",
   "metadata": {},
   "source": [
    "This indicates that `id` is the primary key column for both tables."
   ]
  },
  {
   "cell_type": "markdown",
   "metadata": {},
   "source": [
    "### Foreign Key Tracer\n",
    "Now, suppose you want to understand the relationship between the two tables. This corresponds to the foreign key discovery pipeline."
   ]
  },
  {
   "cell_type": "code",
   "execution_count": 6,
   "metadata": {},
   "outputs": [
    {
     "data": {
      "text/plain": [
       "[{'table': 'posts', 'field': 'uid', 'ref_table': 'users', 'ref_field': 'id'}]"
      ]
     },
     "execution_count": 6,
     "metadata": {},
     "output_type": "execute_result"
    }
   ],
   "source": [
    "solver = DataTracer.load('datatracer.foreign_key.standard')\n",
    "solver.solve(tables)"
   ]
  },
  {
   "cell_type": "markdown",
   "metadata": {},
   "source": [
    "This returned a single foreign key which indicates that `posts.uid` is related to `users.id`, confirming our earlier hypothesis."
   ]
  },
  {
   "cell_type": "markdown",
   "metadata": {},
   "source": [
    "### Column Map Tracer\n",
    "#### User Age\n",
    "Next, suppose you want to understand the lineage of the \"age\" field. Earlier, we hypothesized that the \"age\" and \"birthyear\" fields may be related. We can apply the \"column mapping\" discovery pipeline to trace the lineage of the \"age\" field and verify this."
   ]
  },
  {
   "cell_type": "code",
   "execution_count": 7,
   "metadata": {},
   "outputs": [
    {
     "data": {
      "text/plain": [
       "{('users', 'birthyear'): 0.9999985726528566}"
      ]
     },
     "execution_count": 7,
     "metadata": {},
     "output_type": "execute_result"
    }
   ],
   "source": [
    "solver = DataTracer.load('datatracer.column_map.basic')\n",
    "solver.solve(tables, target_table=\"users\", target_field=\"age\")"
   ]
  },
  {
   "cell_type": "markdown",
   "metadata": {},
   "source": [
    "This confirms our hypothesis that `user.birthyear` is strongly related to `users.age` since the column mapping discovery primitive assigned a high score to it."
   ]
  },
  {
   "cell_type": "markdown",
   "metadata": {},
   "source": [
    "#### Number of Posts\n",
    "Finally, suppose you want to understand the lineage of the \"nb_posts\" field - based on the name, we may hypothesize that it indicates the number of posts associated with each user."
   ]
  },
  {
   "cell_type": "code",
   "execution_count": 8,
   "metadata": {},
   "outputs": [
    {
     "data": {
      "text/plain": [
       "{('posts', 'uid'): 1.0}"
      ]
     },
     "execution_count": 8,
     "metadata": {},
     "output_type": "execute_result"
    }
   ],
   "source": [
    "solver = DataTracer.load('datatracer.column_map.basic')\n",
    "solver.solve(tables, target_table=\"users\", target_field=\"nb_posts\")"
   ]
  },
  {
   "cell_type": "markdown",
   "metadata": {},
   "source": [
    "This isn't as clear cut as the previous example but we can see that `posts.uid` is assigned a relatively high score; his suggests that `users.nb_posts` is related to the `uid` field in the `posts` table. Logically, this makes sense since the `uid` field in the `posts` table is how we figure out which post belongs to which user."
   ]
  }
 ],
 "metadata": {
  "kernelspec": {
   "display_name": "Python 3",
   "language": "python",
   "name": "python3"
  },
  "language_info": {
   "codemirror_mode": {
    "name": "ipython",
    "version": 3
   },
   "file_extension": ".py",
   "mimetype": "text/x-python",
   "name": "python",
   "nbconvert_exporter": "python",
   "pygments_lexer": "ipython3",
   "version": "3.7.4"
  }
 },
 "nbformat": 4,
 "nbformat_minor": 4
}
